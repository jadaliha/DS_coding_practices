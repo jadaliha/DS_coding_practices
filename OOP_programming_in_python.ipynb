{
  "cells": [
    {
      "cell_type": "markdown",
      "metadata": {
        "id": "view-in-github",
        "colab_type": "text"
      },
      "source": [
        "<a href=\"https://colab.research.google.com/github/jadaliha/DS_coding_practices/blob/main/OOP_programming_in_python.ipynb\" target=\"_parent\"><img src=\"https://colab.research.google.com/assets/colab-badge.svg\" alt=\"Open In Colab\"/></a>"
      ]
    },
    {
      "cell_type": "markdown",
      "source": [
        "# Python Classes and Objects\n",
        "\n",
        "Python is an object oriented programming language.\n",
        "\n",
        "Almost everything in Python is an object, with its properties and methods.\n",
        "\n",
        "A Class is like an object constructor, or a \"blueprint\" for creating objects."
      ],
      "metadata": {
        "id": "O4Fq1WPMBFkg"
      },
      "id": "O4Fq1WPMBFkg"
    },
    {
      "cell_type": "code",
      "source": [
        "# Create a class named MyClass, with a property named x:\n",
        "class MyClass:\n",
        "  x = 5\n",
        "\n",
        "# Create Object\n",
        "p1 = MyClass()\n",
        "print(p1.x)"
      ],
      "metadata": {
        "id": "U2LH1aWGBT0S"
      },
      "id": "U2LH1aWGBT0S",
      "execution_count": null,
      "outputs": []
    },
    {
      "cell_type": "markdown",
      "source": [
        "![success](https://media2.giphy.com/media/umYMU8G2ixG5mJBDo5/giphy.gif?cid=ecf05e47y959lcipbgq2kzbl8ars8hv192nw4smg1szpdu9x&rid=giphy.gif&ct=g)"
      ],
      "metadata": {
        "id": "PbAU0F7YG5iF"
      },
      "id": "PbAU0F7YG5iF"
    },
    {
      "cell_type": "markdown",
      "source": [
        "in python class are advanced dictionary"
      ],
      "metadata": {
        "id": "l-OB5S_1DmQB"
      },
      "id": "l-OB5S_1DmQB"
    },
    {
      "cell_type": "code",
      "source": [
        "# get the dictionary behind the scene\n",
        "p1.__dict__"
      ],
      "metadata": {
        "colab": {
          "base_uri": "https://localhost:8080/"
        },
        "id": "QCGc-X0tDotp",
        "outputId": "6a383ea0-c4cc-48e0-fa53-d2a1d81e5682"
      },
      "id": "QCGc-X0tDotp",
      "execution_count": null,
      "outputs": [
        {
          "output_type": "execute_result",
          "data": {
            "text/plain": [
              "{'name': 'Mahdi', 'age': 36}"
            ]
          },
          "metadata": {},
          "execution_count": 124
        }
      ]
    },
    {
      "cell_type": "markdown",
      "source": [
        "## Object Methods\n",
        "\n",
        "Objects can also contain methods. Methods in objects are functions that belong to the object."
      ],
      "metadata": {
        "id": "yWbwYTkaB7cR"
      },
      "id": "yWbwYTkaB7cR"
    },
    {
      "cell_type": "code",
      "source": [
        "class Person:\n",
        "  def __init__(self, name, age):\n",
        "    self.name = name\n",
        "    self.age = age\n",
        "  \n",
        "  def greeting(self):\n",
        "    print(\"Hello my name is \" + self.name)\n",
        "\n",
        "p1 = Person(\"John\", 36)\n",
        "p1.greeting()"
      ],
      "metadata": {
        "colab": {
          "base_uri": "https://localhost:8080/"
        },
        "id": "1ywML-01B15s",
        "outputId": "af9e796c-76d7-4ec8-bf7d-b7dd267386cc"
      },
      "id": "1ywML-01B15s",
      "execution_count": null,
      "outputs": [
        {
          "output_type": "stream",
          "name": "stdout",
          "text": [
            "Hello my name is John\n"
          ]
        }
      ]
    },
    {
      "cell_type": "markdown",
      "source": [
        "You can modify properties on objects like this:"
      ],
      "metadata": {
        "id": "SuDRz1tbCuBw"
      },
      "id": "SuDRz1tbCuBw"
    },
    {
      "cell_type": "code",
      "source": [
        "p1.name = 'Mahdi'\n",
        "p1.greeting()"
      ],
      "metadata": {
        "colab": {
          "base_uri": "https://localhost:8080/"
        },
        "id": "OB8if-BgCyfl",
        "outputId": "9e604e39-550f-495f-a586-9091d7c5f64a"
      },
      "id": "OB8if-BgCyfl",
      "execution_count": null,
      "outputs": [
        {
          "output_type": "stream",
          "name": "stdout",
          "text": [
            "Hello my name is Mahdi\n"
          ]
        }
      ]
    },
    {
      "cell_type": "markdown",
      "source": [
        "## Getters and Setters\n",
        "Let's change teh above class to track how many times we are changing the name!\n"
      ],
      "metadata": {
        "id": "3g5tm7rpEeuO"
      },
      "id": "3g5tm7rpEeuO"
    },
    {
      "cell_type": "code",
      "source": [
        "class Person:\n",
        "  def __init__(self, name, age):\n",
        "    self._name = name\n",
        "    self.age = age\n",
        "    self.counter = 0\n",
        "\n",
        "  @property\n",
        "  def name(self):\n",
        "    return self._name\n",
        "\n",
        "  @name.setter\n",
        "  def name(self,name):\n",
        "    raise()\n",
        "    self.counter += 1\n",
        "    self._name = name\n",
        "\n",
        "\n",
        "p1 = Person(\"John\", 36)\n",
        "p1.name = 'Mahdi'\n",
        "p1.name = 'Chris'\n",
        "\n",
        "# number of name changes is saved in counter property of the object\n",
        "display(\n",
        "    p1.name,\n",
        "    p1.__dict__\n",
        ")\n"
      ],
      "metadata": {
        "colab": {
          "base_uri": "https://localhost:8080/",
          "height": 53
        },
        "id": "Z6v6Beh7EdhG",
        "outputId": "56de93a5-b23b-4e5a-bac0-9c7626aeeb6c"
      },
      "id": "Z6v6Beh7EdhG",
      "execution_count": null,
      "outputs": [
        {
          "output_type": "display_data",
          "data": {
            "text/plain": [
              "'Chris'"
            ],
            "application/vnd.google.colaboratory.intrinsic+json": {
              "type": "string"
            }
          },
          "metadata": {}
        },
        {
          "output_type": "display_data",
          "data": {
            "text/plain": [
              "{'_name': 'Chris', 'age': 36, 'counter': 2}"
            ]
          },
          "metadata": {}
        }
      ]
    },
    {
      "cell_type": "markdown",
      "source": [
        "## Inheritance\n",
        "\n",
        "Inheritance allows us to define a class that inherits all the methods and properties from another class."
      ],
      "metadata": {
        "id": "y0FZQf9YIaOu"
      },
      "id": "y0FZQf9YIaOu"
    },
    {
      "cell_type": "code",
      "source": [
        "class Person2(Person):\n",
        "    gender:str = 'F'\n",
        "    def __init__(self, name, age,gender):\n",
        "      super().__init__(name,age)\n",
        "      self.gender = gender\n",
        "\n",
        "    def __str__(self):\n",
        "      return f\"{self.name}(\\x1b[34m{self.age}\\x1b[0m)\"\n",
        "\n",
        "    def __repr__(self):\n",
        "       return f\"Hello my name is {self.name}\"\n",
        "\n",
        "p1 = Person2(\"John\", 36, 'M')"
      ],
      "metadata": {
        "id": "-I2r6V-lH74m"
      },
      "id": "-I2r6V-lH74m",
      "execution_count": null,
      "outputs": []
    },
    {
      "cell_type": "code",
      "source": [
        "p1.__dict__"
      ],
      "metadata": {
        "colab": {
          "base_uri": "https://localhost:8080/"
        },
        "id": "HT9EfvONvFWq",
        "outputId": "08a379bd-0e0a-489c-b0fb-ed999aad711e"
      },
      "id": "HT9EfvONvFWq",
      "execution_count": null,
      "outputs": [
        {
          "output_type": "execute_result",
          "data": {
            "text/plain": [
              "{'_name': 'John', 'age': 36, 'counter': 0, 'gender': 'M'}"
            ]
          },
          "metadata": {},
          "execution_count": 20
        }
      ]
    },
    {
      "cell_type": "code",
      "source": [
        "p1"
      ],
      "metadata": {
        "colab": {
          "base_uri": "https://localhost:8080/"
        },
        "id": "ju94O5_tJ0jQ",
        "outputId": "d067a9eb-5b3c-4315-82d5-b05827904963"
      },
      "id": "ju94O5_tJ0jQ",
      "execution_count": null,
      "outputs": [
        {
          "output_type": "execute_result",
          "data": {
            "text/plain": [
              "Hello my name is John"
            ]
          },
          "metadata": {},
          "execution_count": 17
        }
      ]
    },
    {
      "cell_type": "code",
      "source": [
        "print(p1)"
      ],
      "metadata": {
        "colab": {
          "base_uri": "https://localhost:8080/"
        },
        "id": "hQzSVionJka9",
        "outputId": "a2962f6f-8c39-420c-bbe3-314ca47973f6"
      },
      "id": "hQzSVionJka9",
      "execution_count": null,
      "outputs": [
        {
          "output_type": "stream",
          "name": "stdout",
          "text": [
            "John(\u001b[34m36\u001b[0m)\n"
          ]
        }
      ]
    },
    {
      "cell_type": "markdown",
      "source": [
        "![](https://media3.giphy.com/media/l0MYI6LEJpa5C6mJO/giphy.gif?cid=ecf05e47qcor9zly0bb128sx3bkpvsa89w2iehw3t6e89ncv&rid=giphy.gif&ct=g)"
      ],
      "metadata": {
        "id": "EuJLxUFtKNuc"
      },
      "id": "EuJLxUFtKNuc"
    },
    {
      "cell_type": "markdown",
      "id": "7dcc4888",
      "metadata": {
        "id": "7dcc4888"
      },
      "source": [
        "# Data Classes"
      ]
    },
    {
      "cell_type": "markdown",
      "id": "7927ba68",
      "metadata": {
        "id": "7927ba68"
      },
      "source": [
        "### Data Classes vs Normal Classes"
      ]
    },
    {
      "cell_type": "markdown",
      "id": "9daebbc6",
      "metadata": {
        "id": "9daebbc6"
      },
      "source": [
        "If you want to use classes to store data, use the dataclass module. This module is available in Python 3.7+. "
      ]
    },
    {
      "cell_type": "markdown",
      "id": "a434057f",
      "metadata": {
        "id": "a434057f"
      },
      "source": [
        "With dataclass, you can create a class with attributes, type hints, and a nice representation of the data in a few lines of code. To use dataclass, simply add the `@dataclass` decorator on top of a class."
      ]
    },
    {
      "cell_type": "code",
      "execution_count": null,
      "id": "67d5350d",
      "metadata": {
        "ExecuteTime": {
          "end_time": "2022-02-17T15:34:13.318039Z",
          "start_time": "2022-02-17T15:34:13.307709Z"
        },
        "id": "67d5350d"
      },
      "outputs": [],
      "source": [
        "from dataclasses import dataclass\n",
        "\n",
        "@dataclass\n",
        "class DataClassDog:\n",
        "    color: str\n",
        "    age: int"
      ]
    },
    {
      "cell_type": "code",
      "execution_count": null,
      "id": "a17e7b89",
      "metadata": {
        "ExecuteTime": {
          "end_time": "2022-02-17T15:34:24.566505Z",
          "start_time": "2022-02-17T15:34:24.556064Z"
        },
        "id": "a17e7b89",
        "outputId": "a51368c6-c1f7-4373-c3e4-09691caa08fe",
        "colab": {
          "base_uri": "https://localhost:8080/"
        }
      },
      "outputs": [
        {
          "output_type": "execute_result",
          "data": {
            "text/plain": [
              "DataClassDog(color='black', age=9)"
            ]
          },
          "metadata": {},
          "execution_count": 23
        }
      ],
      "source": [
        "DataClassDog(color=\"black\", age=9)"
      ]
    },
    {
      "cell_type": "markdown",
      "id": "f2d3c79c",
      "metadata": {
        "id": "f2d3c79c"
      },
      "source": [
        "Without dataclass, you need to use `__init__` to assign values to appropriate variables and use `__repr__` to create a nice presentation of the data, which can be very cumbersome. "
      ]
    },
    {
      "cell_type": "code",
      "execution_count": null,
      "id": "891cc922",
      "metadata": {
        "ExecuteTime": {
          "end_time": "2022-02-17T15:50:18.348235Z",
          "start_time": "2022-02-17T15:50:18.338179Z"
        },
        "id": "891cc922"
      },
      "outputs": [],
      "source": [
        "class Dog:\n",
        "    def __init__(self, color, age):\n",
        "        self.color = color\n",
        "        self.age = age\n",
        "\n",
        "    def __repr__(self):\n",
        "        return f\"Dog(color={self.color} age={self.age})\""
      ]
    },
    {
      "cell_type": "code",
      "execution_count": null,
      "id": "eabce54d",
      "metadata": {
        "ExecuteTime": {
          "end_time": "2022-02-17T15:50:18.723902Z",
          "start_time": "2022-02-17T15:50:18.710139Z"
        },
        "id": "eabce54d",
        "outputId": "743ff25a-d93e-4a14-89e6-f8c54b255682",
        "colab": {
          "base_uri": "https://localhost:8080/"
        }
      },
      "outputs": [
        {
          "output_type": "execute_result",
          "data": {
            "text/plain": [
              "Dog(color=black age=9)"
            ]
          },
          "metadata": {},
          "execution_count": 46
        }
      ],
      "source": [
        "Dog(color=\"black\", age=9)"
      ]
    },
    {
      "cell_type": "markdown",
      "id": "edfeb8af",
      "metadata": {
        "id": "edfeb8af"
      },
      "source": [
        "### frozen=True: Make Your Data Classes Read-Only"
      ]
    },
    {
      "cell_type": "markdown",
      "id": "ec963fd5",
      "metadata": {
        "id": "ec963fd5"
      },
      "source": [
        "If you don't want anybody to adjust the attributes of a class, use `@dataclass(frozen=True)`."
      ]
    },
    {
      "cell_type": "code",
      "execution_count": null,
      "id": "0bf3d54b",
      "metadata": {
        "id": "0bf3d54b"
      },
      "outputs": [],
      "source": [
        "from dataclasses import dataclass\n",
        "\n",
        "@dataclass(frozen=True)\n",
        "class DataClassDog:\n",
        "    color: str\n",
        "    age: int"
      ]
    },
    {
      "cell_type": "markdown",
      "id": "96eca141",
      "metadata": {
        "id": "96eca141"
      },
      "source": [
        "Now changing the attribute `color` of  the `DataClassDog`'s instance will throw an error."
      ]
    },
    {
      "cell_type": "code",
      "execution_count": null,
      "id": "47474735",
      "metadata": {
        "id": "47474735",
        "outputId": "e5d10308-e9a8-4efb-a833-b97089f85fd0",
        "colab": {
          "base_uri": "https://localhost:8080/",
          "height": 222
        }
      },
      "outputs": [
        {
          "output_type": "error",
          "ename": "FrozenInstanceError",
          "evalue": "ignored",
          "traceback": [
            "\u001b[0;31m---------------------------------------------------------------------------\u001b[0m",
            "\u001b[0;31mFrozenInstanceError\u001b[0m                       Traceback (most recent call last)",
            "\u001b[0;32m<ipython-input-25-0d6f339835b8>\u001b[0m in \u001b[0;36m<module>\u001b[0;34m\u001b[0m\n\u001b[1;32m      1\u001b[0m \u001b[0mpepper\u001b[0m \u001b[0;34m=\u001b[0m \u001b[0mDataClassDog\u001b[0m\u001b[0;34m(\u001b[0m\u001b[0mcolor\u001b[0m\u001b[0;34m=\u001b[0m\u001b[0;34m\"black\"\u001b[0m\u001b[0;34m,\u001b[0m \u001b[0mage\u001b[0m\u001b[0;34m=\u001b[0m\u001b[0;36m9\u001b[0m\u001b[0;34m)\u001b[0m\u001b[0;34m\u001b[0m\u001b[0;34m\u001b[0m\u001b[0m\n\u001b[0;32m----> 2\u001b[0;31m \u001b[0mpepper\u001b[0m\u001b[0;34m.\u001b[0m\u001b[0mcolor\u001b[0m \u001b[0;34m=\u001b[0m \u001b[0;34m'golden'\u001b[0m\u001b[0;34m\u001b[0m\u001b[0;34m\u001b[0m\u001b[0m\n\u001b[0m",
            "\u001b[0;32m<string>\u001b[0m in \u001b[0;36m__setattr__\u001b[0;34m(self, name, value)\u001b[0m\n",
            "\u001b[0;31mFrozenInstanceError\u001b[0m: cannot assign to field 'color'"
          ]
        }
      ],
      "source": [
        "pepper = DataClassDog(color=\"black\", age=9)\n",
        "pepper.color = 'golden'"
      ]
    },
    {
      "cell_type": "markdown",
      "source": [
        "![failed](https://i.giphy.com/media/3o7TKFuyAtNQgG964o/giphy.webp)"
      ],
      "metadata": {
        "id": "L8AFfgduHeN0"
      },
      "id": "L8AFfgduHeN0"
    },
    {
      "cell_type": "markdown",
      "id": "7c8f3ba6",
      "metadata": {
        "id": "7c8f3ba6"
      },
      "source": [
        "### Compare Between Two Data Classes"
      ]
    },
    {
      "cell_type": "markdown",
      "id": "0459aa94",
      "metadata": {
        "id": "0459aa94"
      },
      "source": [
        "Normally, you need to implement the `__eq__` method so that you can compare between two classes. "
      ]
    },
    {
      "cell_type": "code",
      "execution_count": null,
      "id": "2f57fa1b",
      "metadata": {
        "id": "2f57fa1b",
        "outputId": "90c434f1-34a2-4690-83ad-c6a863170c1c",
        "colab": {
          "base_uri": "https://localhost:8080/"
        }
      },
      "outputs": [
        {
          "output_type": "execute_result",
          "data": {
            "text/plain": [
              "False"
            ]
          },
          "metadata": {},
          "execution_count": 28
        }
      ],
      "source": [
        "class Dog:\n",
        "    def __init__(self, type, age):\n",
        "        self.type = type\n",
        "        self.age = age\n",
        "    \n",
        "    def __eq__(self, other):\n",
        "        return (self.age == other.age)\n",
        "\n",
        "pepper = Dog(type=\"Bulldog\", age=6)\n",
        "bim = Dog(type=\"Dachshund\", age=7)\n",
        "pepper == bim"
      ]
    },
    {
      "cell_type": "markdown",
      "id": "3529d9ac",
      "metadata": {
        "id": "3529d9ac"
      },
      "source": [
        "dataclasses automatically implements the `__eq__` method for you. With dataclasses, you can compare between 2 classes by only specifying their attributes. "
      ]
    },
    {
      "cell_type": "code",
      "execution_count": null,
      "id": "80791c92",
      "metadata": {
        "id": "80791c92"
      },
      "outputs": [],
      "source": [
        "from dataclasses import dataclass\n",
        "\n",
        "@dataclass\n",
        "class DataClassDog:\n",
        "    type: str\n",
        "    age: int"
      ]
    },
    {
      "cell_type": "code",
      "execution_count": null,
      "id": "a87a0cca",
      "metadata": {
        "id": "a87a0cca",
        "outputId": "bc3cc62e-9809-484e-99a6-af3c2a8fb1b3",
        "colab": {
          "base_uri": "https://localhost:8080/"
        }
      },
      "outputs": [
        {
          "output_type": "execute_result",
          "data": {
            "text/plain": [
              "True"
            ]
          },
          "metadata": {},
          "execution_count": 30
        }
      ],
      "source": [
        "pepper = DataClassDog(type=\"Dachshund\", age=7)\n",
        "bim = DataClassDog(type=\"Dachshund\", age=7)\n",
        "pepper == bim "
      ]
    },
    {
      "cell_type": "markdown",
      "id": "ab820b01",
      "metadata": {
        "id": "ab820b01"
      },
      "source": [
        "### Post-init: Add Init Method to a Data Class "
      ]
    },
    {
      "cell_type": "markdown",
      "id": "96e26cb5",
      "metadata": {
        "id": "96e26cb5"
      },
      "source": [
        "With a data class, you don't need an `__init__` method to assign values to its attributes. However, sometimes you might want to use an `___init__` method to initialize certain attributes. That is when data class's `__post_init__` comes in handy.   "
      ]
    },
    {
      "cell_type": "markdown",
      "id": "f5841617",
      "metadata": {
        "id": "f5841617"
      },
      "source": [
        "In the code below, I use `__post_init__` to initialize the attribute `info` using the attributes `names` and `ages`."
      ]
    },
    {
      "cell_type": "code",
      "execution_count": null,
      "id": "17a18fb7",
      "metadata": {
        "id": "17a18fb7"
      },
      "outputs": [],
      "source": [
        "\n",
        "from dataclasses import dataclass, field\n",
        "from typing import List\n",
        "import random, string\n",
        "\n",
        "def generate_id() -> str:\n",
        "  return \"\".join(random.choices(string.ascii_uppercase, k=12))\n",
        "\n",
        "@dataclass```\n",
        "class Dog:\n",
        "    name: str\n",
        "    age: int\n",
        "    id: str = field(default_factory=generate_id, compare=False, init= False, repr=False)\n",
        "\n",
        "@dataclass\n",
        "class Dogs:\n",
        "    names: List[str]\n",
        "    ages: List[int]\n",
        "\n",
        "    def __post_init__(self):\n",
        "        self.info = [Dog(name, age) for name, age in zip(self.names, self.ages)]\n"
      ]
    },
    {
      "cell_type": "code",
      "execution_count": null,
      "id": "add1c7d3",
      "metadata": {
        "id": "add1c7d3",
        "outputId": "bbf62615-2fa7-40c2-b37d-12d403292522",
        "colab": {
          "base_uri": "https://localhost:8080/"
        }
      },
      "outputs": [
        {
          "output_type": "execute_result",
          "data": {
            "text/plain": [
              "[Dog(name='Bim', age=5), Dog(name='Pepper', age=6)]"
            ]
          },
          "metadata": {},
          "execution_count": 32
        }
      ],
      "source": [
        "names = ['Bim', 'Pepper']\n",
        "ages = [5, 6]\n",
        "dogs = Dogs(names, ages)\n",
        "dogs.info "
      ]
    },
    {
      "cell_type": "markdown",
      "source": [
        "# JSON-Conversion\n",
        "\n",
        "* asdict\n",
        "* Passed to json.dumps\n",
        "* Create instance from json\n",
        "* Expand kwargs (**)"
      ],
      "metadata": {
        "id": "WbP2Npztu1fh"
      },
      "id": "WbP2Npztu1fh"
    },
    {
      "cell_type": "code",
      "source": [
        "from dataclasses import asdict\n",
        "import json\n",
        "\n",
        "jigar = Dog(name = 'Jigar', age = 1)\n",
        "\n",
        "# Serializing json\n",
        "json_object = json.dumps(asdict(jigar), indent=4)\n",
        "\n",
        "# Writing to sample.json\n",
        "with open(\"jigar.json\", \"w\") as outfile:\n",
        "    outfile.write(json_object)"
      ],
      "metadata": {
        "id": "3fC7r88kxL8n"
      },
      "id": "3fC7r88kxL8n",
      "execution_count": null,
      "outputs": []
    },
    {
      "cell_type": "code",
      "source": [
        "# Opening JSON file\n",
        "f = open('/content/jigar.json')\n",
        "  \n",
        "# returns JSON object as \n",
        "# a dictionary\n",
        "jigar_dna = json.load(f)\n",
        "del jigar_dna['id']\n",
        "jigar_clone = Dog(**jigar_dna)\n",
        "jigar_clone == jigar"
      ],
      "metadata": {
        "colab": {
          "base_uri": "https://localhost:8080/"
        },
        "id": "T-1gTlbVyTBX",
        "outputId": "ba6f5a84-ad6e-4ea9-a2bf-e66aa5bdaa42"
      },
      "id": "T-1gTlbVyTBX",
      "execution_count": null,
      "outputs": [
        {
          "output_type": "execute_result",
          "data": {
            "text/plain": [
              "True"
            ]
          },
          "metadata": {},
          "execution_count": 35
        }
      ]
    },
    {
      "cell_type": "code",
      "source": [
        "display(jigar, jigar_clone)"
      ],
      "metadata": {
        "colab": {
          "base_uri": "https://localhost:8080/",
          "height": 53
        },
        "id": "orpoa-I45RzZ",
        "outputId": "f55ae03c-c135-4f8f-c691-5c62b6237f66"
      },
      "id": "orpoa-I45RzZ",
      "execution_count": null,
      "outputs": [
        {
          "output_type": "display_data",
          "data": {
            "text/plain": [
              "Dog(name='Jigar', age=1)"
            ]
          },
          "metadata": {}
        },
        {
          "output_type": "display_data",
          "data": {
            "text/plain": [
              "Dog(name='Jigar', age=1)"
            ]
          },
          "metadata": {}
        }
      ]
    },
    {
      "cell_type": "code",
      "source": [
        "display(jigar.__dict__, jigar_clone.__dict__)"
      ],
      "metadata": {
        "colab": {
          "base_uri": "https://localhost:8080/",
          "height": 53
        },
        "id": "DqhPI_Ue5Tcv",
        "outputId": "1657bf98-3400-40cb-cb3a-e71ebf7bcc57"
      },
      "id": "DqhPI_Ue5Tcv",
      "execution_count": null,
      "outputs": [
        {
          "output_type": "display_data",
          "data": {
            "text/plain": [
              "{'name': 'Jigar', 'age': 1, 'id': 'LNYHUWZFNCJC'}"
            ]
          },
          "metadata": {}
        },
        {
          "output_type": "display_data",
          "data": {
            "text/plain": [
              "{'name': 'Jigar', 'age': 1, 'id': 'DIIJLFYRNXLY'}"
            ]
          },
          "metadata": {}
        }
      ]
    },
    {
      "cell_type": "markdown",
      "source": [
        "# Summary\n",
        "\n",
        "1. A class is a user-defined **blueprint** (Interface is used in more advanced\n",
        "languages)\n",
        "2. In Python, classes are **advanced dictionary**\n",
        "3. Each class instance can have attributes attached to it for maintaining its **state**.\n",
        "4. Class instances can also have **methods** (defined by their class) for modifying their state.\n",
        "5. **setter** and **getter** methods can be used to act as a proxy for interacting with internal states of class\n",
        "6. **str**, and **repr** method can be used to prettify a print\n",
        "7. **Inheritance** helps to breakdown your code to hierarchy design\n",
        "8. **dataclass** is an awesome package to define data-oriented classes (vs. behavioral)\n",
        "9. you can **freeze** a class to achieve const behavior\n",
        "10. with the help of class, you can use **JSON** to store states\n",
        "\n"
      ],
      "metadata": {
        "id": "0LnoJy1g-j7C"
      },
      "id": "0LnoJy1g-j7C"
    },
    {
      "cell_type": "code",
      "source": [],
      "metadata": {
        "id": "9qrcwAkT0YP-"
      },
      "id": "9qrcwAkT0YP-",
      "execution_count": null,
      "outputs": []
    }
  ],
  "metadata": {
    "kernelspec": {
      "display_name": "Python 3.8.9 ('venv': venv)",
      "language": "python",
      "name": "python3"
    },
    "language_info": {
      "codemirror_mode": {
        "name": "ipython",
        "version": 3
      },
      "file_extension": ".py",
      "mimetype": "text/x-python",
      "name": "python",
      "nbconvert_exporter": "python",
      "pygments_lexer": "ipython3",
      "version": "3.8.9"
    },
    "toc": {
      "base_numbering": 1,
      "nav_menu": {},
      "number_sections": true,
      "sideBar": true,
      "skip_h1_title": false,
      "title_cell": "Table of Contents",
      "title_sidebar": "Contents",
      "toc_cell": false,
      "toc_position": {},
      "toc_section_display": true,
      "toc_window_display": false
    },
    "vscode": {
      "interpreter": {
        "hash": "484329849bb907480cd798e750759bc6f1d66c93f9e78e7055aa0a2c2de6b47b"
      }
    },
    "colab": {
      "provenance": [],
      "collapsed_sections": [],
      "include_colab_link": true
    }
  },
  "nbformat": 4,
  "nbformat_minor": 5
}