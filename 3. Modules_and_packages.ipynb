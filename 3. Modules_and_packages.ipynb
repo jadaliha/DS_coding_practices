{
 "cells": [
  {
   "cell_type": "markdown",
   "metadata": {},
   "source": [
    "# What is a module?\n",
    "\n",
    "Consider a module to be the same as a code library. To create a module just save the code you want in a file with the file extension `.py`:\n",
    "\n",
    "A file containing a set of functions, classes and constants you want to include in your application."
   ]
  },
  {
   "cell_type": "markdown",
   "metadata": {},
   "source": [
    "# import\n",
    "import keyword in Python works for both standard library and user-defined modules.\n",
    "\n",
    "It can be helpful that they can be reused across different projects without copy-pasting, or even shared with other developers."
   ]
  },
  {
   "cell_type": "code",
   "execution_count": 16,
   "metadata": {},
   "outputs": [],
   "source": [
    "import funsql.src.template as snippet"
   ]
  },
  {
   "cell_type": "code",
   "execution_count": 20,
   "metadata": {},
   "outputs": [],
   "source": [
    "query = snippet.readTemplates(\"./funsql/data/sql_templates.sql\")"
   ]
  },
  {
   "cell_type": "code",
   "execution_count": 28,
   "metadata": {},
   "outputs": [
    {
     "data": {
      "text/plain": [
       "\u001b[31mSELECT\u001b[0m * \u001b[31mFROM\u001b[0m mytable \u001b[31mLIMIT\u001b[0m 10;"
      ]
     },
     "execution_count": 28,
     "metadata": {},
     "output_type": "execute_result"
    }
   ],
   "source": [
    "query.sample10('mytable')"
   ]
  },
  {
   "cell_type": "code",
   "execution_count": 21,
   "metadata": {},
   "outputs": [
    {
     "data": {
      "text/plain": [
       "\u001b[31mSELECT\u001b[0m *\n",
       "  \u001b[31mFROM\u001b[0m information_schema.\u001b[31mCOLUMNS\u001b[0m\n",
       " \u001b[31mWHERE\u001b[0m table_schema = 'healthcare'\n",
       "   \u001b[31mAND\u001b[0m \u001b[31mTABLE_NAME\u001b[0m   = 'transactions'\n",
       "     ;"
      ]
     },
     "execution_count": 21,
     "metadata": {},
     "output_type": "execute_result"
    }
   ],
   "source": [
    "query.columns('healthcare','transactions')"
   ]
  },
  {
   "cell_type": "markdown",
   "metadata": {},
   "source": [
    "There is a built-in function to list all the function names (or variable names) in a module. The dir() function:\n",
    "\n"
   ]
  },
  {
   "cell_type": "code",
   "execution_count": 13,
   "metadata": {},
   "outputs": [
    {
     "data": {
      "text/plain": [
       "['Map',\n",
       " '__all__',\n",
       " '__builtins__',\n",
       " '__cached__',\n",
       " '__doc__',\n",
       " '__file__',\n",
       " '__loader__',\n",
       " '__name__',\n",
       " '__package__',\n",
       " '__spec__',\n",
       " 'blue',\n",
       " 'files',\n",
       " 're',\n",
       " 'readTemplates',\n",
       " 'red',\n",
       " 'setFormat',\n",
       " 'setQueries',\n",
       " 'words']"
      ]
     },
     "execution_count": 13,
     "metadata": {},
     "output_type": "execute_result"
    }
   ],
   "source": [
    "dir(snippet)"
   ]
  },
  {
   "cell_type": "markdown",
   "metadata": {},
   "source": [
    "# reload"
   ]
  },
  {
   "cell_type": "code",
   "execution_count": 22,
   "metadata": {},
   "outputs": [
    {
     "data": {
      "text/plain": [
       "\u001b[31mSELECT\u001b[0m *\n",
       "  \u001b[31mFROM\u001b[0m information_schema.\u001b[31mCOLUMNS\u001b[0m\n",
       " \u001b[31mWHERE\u001b[0m table_schema = 'healthcare'\n",
       "   \u001b[31mAND\u001b[0m \u001b[31mTABLE_NAME\u001b[0m   = 'transactions'\n",
       "     ;"
      ]
     },
     "execution_count": 22,
     "metadata": {},
     "output_type": "execute_result"
    }
   ],
   "source": [
    "from importlib import reload\n",
    "reload(snippet)\n",
    "query = snippet.readTemplates(\"./funsql/data/sql_templates.sql\")\n",
    "query.columns('healthcare','transactions')"
   ]
  },
  {
   "cell_type": "markdown",
   "metadata": {},
   "source": [
    "# reuse modules\n",
    "\n",
    "Before moving on to `pip`, there are several other possible approaches.\n",
    "\n",
    "1. Add modules to the standard Python library.\n",
    "\n",
    "    This is not a good approach because every developer needs different libraries,\n",
    "    so increasing the size of the Python distribution is not beneficial.\n",
    "    Also, code in the standard library should have a higher standard\n",
    "    and have less flexibility when changes are needed.\n",
    "\n",
    "2. Modify `PYTHONPATH` environment variable.\n",
    "\n",
    "    While this can work locally on one machine,\n",
    "    modifying the system setup can be problematic when it comes to distribution/deployment,\n",
    "    and it has a high chance of messing things up on other parts of the system."
   ]
  },
  {
   "cell_type": "markdown",
   "metadata": {},
   "source": [
    "# The module search path\n",
    "The interpreter keeps a list of all the places that it looks for modules or packages when you do an import:"
   ]
  },
  {
   "cell_type": "code",
   "execution_count": null,
   "metadata": {},
   "outputs": [],
   "source": [
    "import sys\n",
    "for p in sys.path:\n",
    "    print(p)"
   ]
  },
  {
   "cell_type": "code",
   "execution_count": null,
   "metadata": {},
   "outputs": [],
   "source": [
    "import sys\n",
    "sys.path.insert(0, \"/local/libs/\")\n",
    "sys.path.insert(0, \"/private/libs/\")\n",
    "# import altair as alt"
   ]
  },
  {
   "cell_type": "markdown",
   "metadata": {},
   "source": [
    "# Exercise: A Small Example Package\n",
    "Create a small package\n",
    "* package structure\n",
    "* setup.py\n",
    "* python setup.py develop\n",
    "* at least one working test"
   ]
  },
  {
   "cell_type": "markdown",
   "metadata": {},
   "source": [
    "# Bonus (publish to PyPI)"
   ]
  },
  {
   "cell_type": "code",
   "execution_count": null,
   "metadata": {},
   "outputs": [],
   "source": [
    "# check if package name is valid for pypi publishing\n",
    "! pip install pkg_name_validator\n",
    "! python -m pkg_name_validator funsql"
   ]
  },
  {
   "cell_type": "code",
   "execution_count": 25,
   "metadata": {},
   "outputs": [
    {
     "name": "stdout",
     "output_type": "stream",
     "text": [
      "running sdist\n",
      "running egg_info\n",
      "writing funsql.egg-info/PKG-INFO\n",
      "writing dependency_links to funsql.egg-info/dependency_links.txt\n",
      "writing top-level names to funsql.egg-info/top_level.txt\n",
      "file funsql.py (for module funsql) not found\n",
      "file funsql/src.py (for module funsql.src) not found\n",
      "package init file 'funsql/src/__init__.py' not found (or not a regular file)\n",
      "reading manifest file 'funsql.egg-info/SOURCES.txt'\n",
      "writing manifest file 'funsql.egg-info/SOURCES.txt'\n",
      "running check\n",
      "creating funsql-0.1.1\n",
      "creating funsql-0.1.1/funsql\n",
      "creating funsql-0.1.1/funsql.egg-info\n",
      "creating funsql-0.1.1/funsql/data\n",
      "creating funsql-0.1.1/funsql/src\n",
      "copying files to funsql-0.1.1...\n",
      "copying README.md -> funsql-0.1.1\n",
      "copying setup.py -> funsql-0.1.1\n",
      "copying funsql/__init__.py -> funsql-0.1.1/funsql\n",
      "copying funsql.egg-info/PKG-INFO -> funsql-0.1.1/funsql.egg-info\n",
      "copying funsql.egg-info/SOURCES.txt -> funsql-0.1.1/funsql.egg-info\n",
      "copying funsql.egg-info/dependency_links.txt -> funsql-0.1.1/funsql.egg-info\n",
      "copying funsql.egg-info/not-zip-safe -> funsql-0.1.1/funsql.egg-info\n",
      "copying funsql.egg-info/top_level.txt -> funsql-0.1.1/funsql.egg-info\n",
      "copying funsql/data/sql_keywords.txt -> funsql-0.1.1/funsql/data\n",
      "copying funsql/data/sql_templates.sql -> funsql-0.1.1/funsql/data\n",
      "copying funsql/src/template.py -> funsql-0.1.1/funsql/src\n",
      "Writing funsql-0.1.1/setup.cfg\n",
      "Creating tar archive\n",
      "removing 'funsql-0.1.1' (and everything under it)\n"
     ]
    }
   ],
   "source": [
    "# build the distribution version\n",
    "! python setup.py sdist"
   ]
  },
  {
   "cell_type": "code",
   "execution_count": 26,
   "metadata": {},
   "outputs": [
    {
     "name": "stdout",
     "output_type": "stream",
     "text": [
      "Requirement already satisfied: twine in /usr/local/python/3.10.4/lib/python3.10/site-packages (4.0.1)\n",
      "Requirement already satisfied: rich>=12.0.0 in /usr/local/python/3.10.4/lib/python3.10/site-packages (from twine) (12.6.0)\n",
      "Requirement already satisfied: requests-toolbelt!=0.9.0,>=0.8.0 in /usr/local/python/3.10.4/lib/python3.10/site-packages (from twine) (0.10.1)\n",
      "Requirement already satisfied: keyring>=15.1 in /usr/local/python/3.10.4/lib/python3.10/site-packages (from twine) (23.9.3)\n",
      "Requirement already satisfied: rfc3986>=1.4.0 in /usr/local/python/3.10.4/lib/python3.10/site-packages (from twine) (2.0.0)\n",
      "Requirement already satisfied: requests>=2.20 in /home/codespace/.local/lib/python3.10/site-packages (from twine) (2.28.1)\n",
      "Requirement already satisfied: readme-renderer>=35.0 in /usr/local/python/3.10.4/lib/python3.10/site-packages (from twine) (37.2)\n",
      "Requirement already satisfied: urllib3>=1.26.0 in /home/codespace/.local/lib/python3.10/site-packages (from twine) (1.26.12)\n",
      "Requirement already satisfied: importlib-metadata>=3.6 in /usr/local/python/3.10.4/lib/python3.10/site-packages (from twine) (5.0.0)\n",
      "Requirement already satisfied: pkginfo>=1.8.1 in /usr/local/python/3.10.4/lib/python3.10/site-packages (from twine) (1.8.3)\n",
      "Requirement already satisfied: zipp>=0.5 in /usr/local/python/3.10.4/lib/python3.10/site-packages (from importlib-metadata>=3.6->twine) (3.10.0)\n",
      "Requirement already satisfied: jaraco.classes in /usr/local/python/3.10.4/lib/python3.10/site-packages (from keyring>=15.1->twine) (3.2.3)\n",
      "Requirement already satisfied: jeepney>=0.4.2 in /usr/local/python/3.10.4/lib/python3.10/site-packages (from keyring>=15.1->twine) (0.8.0)\n",
      "Requirement already satisfied: SecretStorage>=3.2 in /usr/local/python/3.10.4/lib/python3.10/site-packages (from keyring>=15.1->twine) (3.3.3)\n",
      "Requirement already satisfied: Pygments>=2.5.1 in /home/codespace/.local/lib/python3.10/site-packages (from readme-renderer>=35.0->twine) (2.13.0)\n",
      "Requirement already satisfied: bleach>=2.1.0 in /home/codespace/.local/lib/python3.10/site-packages (from readme-renderer>=35.0->twine) (5.0.1)\n",
      "Requirement already satisfied: docutils>=0.13.1 in /usr/local/python/3.10.4/lib/python3.10/site-packages (from readme-renderer>=35.0->twine) (0.19)\n",
      "Requirement already satisfied: certifi>=2017.4.17 in /home/codespace/.local/lib/python3.10/site-packages (from requests>=2.20->twine) (2022.9.24)\n",
      "Requirement already satisfied: idna<4,>=2.5 in /home/codespace/.local/lib/python3.10/site-packages (from requests>=2.20->twine) (3.4)\n",
      "Requirement already satisfied: charset-normalizer<3,>=2 in /home/codespace/.local/lib/python3.10/site-packages (from requests>=2.20->twine) (2.1.1)\n",
      "Requirement already satisfied: commonmark<0.10.0,>=0.9.0 in /usr/local/python/3.10.4/lib/python3.10/site-packages (from rich>=12.0.0->twine) (0.9.1)\n",
      "Requirement already satisfied: six>=1.9.0 in /home/codespace/.local/lib/python3.10/site-packages (from bleach>=2.1.0->readme-renderer>=35.0->twine) (1.16.0)\n",
      "Requirement already satisfied: webencodings in /home/codespace/.local/lib/python3.10/site-packages (from bleach>=2.1.0->readme-renderer>=35.0->twine) (0.5.1)\n",
      "Requirement already satisfied: cryptography>=2.0 in /usr/local/python/3.10.4/lib/python3.10/site-packages (from SecretStorage>=3.2->keyring>=15.1->twine) (38.0.1)\n",
      "Requirement already satisfied: more-itertools in /usr/local/python/3.10.4/lib/python3.10/site-packages (from jaraco.classes->keyring>=15.1->twine) (9.0.0)\n",
      "Requirement already satisfied: cffi>=1.12 in /home/codespace/.local/lib/python3.10/site-packages (from cryptography>=2.0->SecretStorage>=3.2->keyring>=15.1->twine) (1.15.1)\n",
      "Requirement already satisfied: pycparser in /home/codespace/.local/lib/python3.10/site-packages (from cffi>=1.12->cryptography>=2.0->SecretStorage>=3.2->keyring>=15.1->twine) (2.21)\n",
      "\n",
      "\u001b[1m[\u001b[0m\u001b[34;49mnotice\u001b[0m\u001b[1;39;49m]\u001b[0m\u001b[39;49m A new release of pip available: \u001b[0m\u001b[31;49m22.2.2\u001b[0m\u001b[39;49m -> \u001b[0m\u001b[32;49m22.3\u001b[0m\n",
      "\u001b[1m[\u001b[0m\u001b[34;49mnotice\u001b[0m\u001b[1;39;49m]\u001b[0m\u001b[39;49m To update, run: \u001b[0m\u001b[32;49mpython -m pip install --upgrade pip\u001b[0m\n",
      "Uploading distributions to https://upload.pypi.org/legacy/\n",
      "Uploading funsql-0.1.1.tar.gz\n",
      "\u001b[2K\u001b[35m100%\u001b[0m \u001b[90m━━━━━━━━━━━━━━━━━━━━━━━━━━━━━━━━━━━━━━━━\u001b[0m \u001b[32m9.5/9.5 kB\u001b[0m • \u001b[33m00:00\u001b[0m • \u001b[31m12.9 MB/s\u001b[0m\n",
      "\u001b[?25h\n",
      "\u001b[32mView at:\u001b[0m\n",
      "https://pypi.org/project/funsql/0.1.1/\n"
     ]
    },
    {
     "ename": "NameError",
     "evalue": "name 'verbose' is not defined",
     "output_type": "error",
     "traceback": [
      "\u001b[0;31m---------------------------------------------------------------------------\u001b[0m",
      "\u001b[0;31mNameError\u001b[0m                                 Traceback (most recent call last)",
      "Cell \u001b[0;32mIn [26], line 4\u001b[0m\n\u001b[1;32m      2\u001b[0m get_ipython()\u001b[39m.\u001b[39msystem(\u001b[39m'\u001b[39m\u001b[39m pip install twine\u001b[39m\u001b[39m'\u001b[39m)\n\u001b[1;32m      3\u001b[0m get_ipython()\u001b[39m.\u001b[39msystem(\u001b[39m'\u001b[39m\u001b[39m twine upload dist/funsql-0.1.1.tar.gz\u001b[39m\u001b[39m'\u001b[39m)\n\u001b[0;32m----> 4\u001b[0m \u001b[39m-\u001b[39m\u001b[39m-\u001b[39mverbose\n",
      "\u001b[0;31mNameError\u001b[0m: name 'verbose' is not defined"
     ]
    }
   ],
   "source": [
    "# upload to pypi\n",
    "! pip install twine\n",
    "! twine upload dist/funsql-0.1.1.tar.gz --verbose"
   ]
  },
  {
   "cell_type": "markdown",
   "metadata": {},
   "source": [
    "# Refrence: \n",
    "\n",
    "[Modules and Packages](https://docs.python.org/3/tutorial/modules.html)\n",
    "\n",
    "[MichaelKim0407\n",
    "/\n",
    "tutorial-pip-package](https://github.com/MichaelKim0407/tutorial-pip-package)\n",
    "\n",
    "[Writing the Setup Script](https://docs.python.org/3/distutils/setupscript.html)"
   ]
  }
 ],
 "metadata": {
  "kernelspec": {
   "display_name": "Python 3",
   "language": "python",
   "name": "python3"
  },
  "language_info": {
   "codemirror_mode": {
    "name": "ipython",
    "version": 3
   },
   "file_extension": ".py",
   "mimetype": "text/x-python",
   "name": "python",
   "nbconvert_exporter": "python",
   "pygments_lexer": "ipython3",
   "version": "3.10.4"
  },
  "orig_nbformat": 4,
  "vscode": {
   "interpreter": {
    "hash": "3ad933181bd8a04b432d3370b9dc3b0662ad032c4dfaa4e4f1596c548f763858"
   }
  }
 },
 "nbformat": 4,
 "nbformat_minor": 2
}
