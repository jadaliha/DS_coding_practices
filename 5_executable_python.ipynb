{
 "cells": [
  {
   "attachments": {},
   "cell_type": "markdown",
   "metadata": {},
   "source": [
    "# start with a boilerplate\n",
    "`main.py`\n",
    "\n",
    "```python\n",
    "#!/usr/bin/env python3\n",
    "\"\"\"\n",
    "Module Docstring\n",
    "\"\"\"\n",
    "\n",
    "__author__ = \"Mahdi Jadaliha\"\n",
    "__version__ = \"0.1.0\"\n",
    "__license__ = \"MIT\"\n",
    "\n",
    "```\n",
    "\n"
   ]
  },
  {
   "attachments": {},
   "cell_type": "markdown",
   "metadata": {},
   "source": [
    "# Main script\n",
    "\n",
    "```python\n",
    "if __name__ == \"__main__\":\n",
    "    \"\"\" \n",
    "    This is executed when run from the command line \n",
    "    \"\"\"\n",
    "    main()\n",
    "```\n"
   ]
  },
  {
   "attachments": {},
   "cell_type": "markdown",
   "metadata": {},
   "source": [
    "# Pass arguments to the script\n",
    "\n",
    "\n",
    "```python\n",
    "import os\n",
    "import sys\n",
    "\n",
    "# Read environment variables\n",
    "os.environ\n",
    "\n",
    "# Read command line arguments\n",
    "sys.argv\n",
    "```"
   ]
  },
  {
   "attachments": {},
   "cell_type": "markdown",
   "metadata": {},
   "source": [
    "# for debugging add this to the script\n",
    "\n",
    "```python\n",
    "from rich import inspect, pretty, print\n",
    "pretty.install()\n",
    "i = lambda x: inspect(x,methods = True)\n",
    "```"
   ]
  },
  {
   "attachments": {},
   "cell_type": "markdown",
   "metadata": {},
   "source": [
    "#  Prompt for user input\n",
    "\n",
    "```python\n",
    "from InquirerPy import prompt\n",
    "\n",
    "questions = [\n",
    "    {\"type\": \"input\", \"message\": \"What's your name:\", \"name\": \"name\"},\n",
    "    {\n",
    "        \"type\": \"list\",\n",
    "        \"message\": \"What's your favourite programming language:\",\n",
    "        \"choices\": [\"Go\", \"Python\", \"Rust\", \"JavaScript\"],\n",
    "    },\n",
    "    {\"type\": \"confirm\", \"message\": \"Confirm?\"},\n",
    "]\n",
    "\n",
    "prompt(questions)\n",
    "\n",
    "```\n",
    "\n"
   ]
  },
  {
   "cell_type": "code",
   "execution_count": null,
   "metadata": {},
   "outputs": [],
   "source": []
  }
 ],
 "metadata": {
  "kernelspec": {
   "display_name": "Python 3",
   "language": "python",
   "name": "python3"
  },
  "language_info": {
   "codemirror_mode": {
    "name": "ipython",
    "version": 3
   },
   "file_extension": ".py",
   "mimetype": "text/x-python",
   "name": "python",
   "nbconvert_exporter": "python",
   "pygments_lexer": "ipython3",
   "version": "3.10.4"
  },
  "orig_nbformat": 4,
  "vscode": {
   "interpreter": {
    "hash": "3ad933181bd8a04b432d3370b9dc3b0662ad032c4dfaa4e4f1596c548f763858"
   }
  }
 },
 "nbformat": 4,
 "nbformat_minor": 2
}
