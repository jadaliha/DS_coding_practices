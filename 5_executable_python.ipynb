{
 "cells": [
  {
   "attachments": {},
   "cell_type": "markdown",
   "metadata": {},
   "source": [
    "# Why avoid Jupyter Notebooks for production code?\n",
    "\n",
    "\n",
    "![](https://blog-c7ff.kxcdn.com/blog/wp-content/uploads/2017/01/butters.gif)\n",
    "\n",
    "There are a few reasons why some people may choose to avoid using Jupyter Notebooks:\n",
    "\n",
    "* Difficulty in reproducibility: Jupyter Notebooks can make it difficult to reproduce the results of a analysis, since the code is interspersed with markdown text and outputs.\n",
    "\n",
    "* Lack of version control: Jupyter Notebooks are not well-suited for version control systems like Git, making it difficult to track changes and collaborate with others on a project.\n",
    "\n",
    "* Execution order: Jupyter Notebooks do not enforce a specific execution order for cells, which can lead to confusion and errors.\n",
    "\n",
    "* Not suitable for production: Jupyter Notebooks are not typically used in production environments, as they are not well-suited for running long-running, batch jobs.\n",
    "\n",
    "* Large and complex files: Jupyter Notebook files can become very large and complex, making them difficult to navigate and understand.\n",
    "\n",
    "That being said, Jupyter Notebooks are a popular tool for data exploration, prototyping and education, and their benefits may outweigh the drawbacks depending on the use case."
   ]
  },
  {
   "attachments": {},
   "cell_type": "markdown",
   "metadata": {},
   "source": [
    "# To write Python script start with a boilerplate\n",
    "To create an executable script, you will first need to save your Python code in a `.py` file. you can get biolerplate code from [here](https://www.python-boilerplate.com/py3+executable)\n",
    "\n",
    "\n",
    "`main.py`\n",
    "\n",
    "```python\n",
    "#!/usr/bin/env python3\n",
    "\"\"\"\n",
    "Module Docstring\n",
    "\"\"\"\n",
    "\n",
    "__author__ = \"Mahdi Jadaliha\"\n",
    "__version__ = \"0.1.0\"\n",
    "__license__ = \"MIT\"\n",
    "\n",
    "```\n",
    "\n"
   ]
  },
  {
   "attachments": {},
   "cell_type": "markdown",
   "metadata": {},
   "source": [
    "# Pass arguments to the script\n",
    "\n",
    "In order to pass arguments to your script, you can use the `sys` and `os` libraries. The `sys` library allows you to access the command line arguments passed to your script, and the `os` library allows you to access the environment variables.\n",
    "\n",
    "```python\n",
    "import os\n",
    "import sys\n",
    "\n",
    "# Read environment variables\n",
    "os.environ\n",
    "\n",
    "# Read command line arguments\n",
    "sys.argv\n",
    "```\n",
    "\n",
    "For more advanced use cases, you can use the argparse library to parse the arguments passed to your script. In your script, you can define the arguments you want to accept, and then use the argparse.ArgumentParser() class to parse the arguments passed to the script. Once the arguments are parsed, you can access them in your script using the args object."
   ]
  },
  {
   "attachments": {},
   "cell_type": "markdown",
   "metadata": {},
   "source": [
    "#  Prompt for user input\n",
    "\n",
    "```python\n",
    "from InquirerPy import prompt\n",
    "\n",
    "questions = [\n",
    "    {\"type\": \"input\", \"message\": \"What's your name:\", \"name\": \"name\"},\n",
    "    {\n",
    "        \"type\": \"list\",\n",
    "        \"message\": \"What's your favourite programming language:\",\n",
    "        \"choices\": [\"Go\", \"Python\", \"Rust\", \"JavaScript\"],\n",
    "    },\n",
    "    {\"type\": \"confirm\", \"message\": \"Confirm?\"},\n",
    "]\n",
    "\n",
    "prompt(questions)\n",
    "\n",
    "```\n",
    "\n"
   ]
  },
  {
   "attachments": {},
   "cell_type": "markdown",
   "metadata": {},
   "source": [
    "# Main script\n",
    "\n",
    "It is a good practice to have a main function in your code, so that you can import it in other scripts.\n",
    "\n",
    "```python\n",
    "def main():\n",
    "    \"\"\" Main entry point of the app \"\"\"\n",
    "    print(\"This is the main function\")\n",
    "\n",
    "if __name__ == \"__main__\":\n",
    "    \"\"\" \n",
    "    This is executed when run from the command line \n",
    "    \"\"\"\n",
    "    main()\n",
    "```\n"
   ]
  },
  {
   "cell_type": "markdown",
   "metadata": {},
   "source": []
  },
  {
   "attachments": {},
   "cell_type": "markdown",
   "metadata": {},
   "source": [
    "# For debugging add this to the script\n",
    "\n",
    "```python\n",
    "from rich import inspect, pretty, print\n",
    "pretty.install()\n",
    "i = lambda x: inspect(x,methods = True)\n",
    "```\n",
    "\n",
    "You may add `breakpoint()` to the code to stop the execution and inspect the variables."
   ]
  },
  {
   "attachments": {},
   "cell_type": "markdown",
   "metadata": {},
   "source": [
    "# Run the script"
   ]
  },
  {
   "attachments": {},
   "cell_type": "markdown",
   "metadata": {},
   "source": [
    "Once you have your code saved, you have to add\n",
    "`#!/usr/bin/env python3` as the first line of the script. \n",
    "\n",
    "Then, you can make the script executable by running the command:\n",
    "```bash\n",
    "chmod +x scriptname.py\n",
    "```\n",
    "\n"
   ]
  },
  {
   "attachments": {},
   "cell_type": "markdown",
   "metadata": {},
   "source": [
    "Now, you can run the script by typing:\n",
    "\n",
    "```bash\n",
    "./main.py your_argument\n",
    "```"
   ]
  },
  {
   "attachments": {},
   "cell_type": "markdown",
   "metadata": {},
   "source": [
    "# Python flags\n",
    "\n",
    "Python flags are command-line options that can be passed to the Python interpreter when running a script or command. These flags can be used to control various aspects of the interpreter's behavior.\n",
    "\n",
    "Here are a few examples of commonly used Python flags:\n",
    "\n",
    "**-m:** \n",
    "\n",
    "This flag is used to run a module as a script. For example, python -m my_module will run the script my_module.py as if you had run python my_module.py.\n",
    "\n",
    "**-i:** \n",
    "\n",
    "This flag is used to run the interpreter in interactive mode after running a script. For example, python -i my_script.py will run the script my_script.py and then drop you into the interactive interpreter where you can explore the script's variables and functions.\n",
    "\n",
    "**-O:** \n",
    "\n",
    "This flag is used to enable basic optimization of the bytecode generated by the interpreter. It will remove some asserts, docstrings and make some built-in operations faster."
   ]
  },
  {
   "cell_type": "markdown",
   "metadata": {},
   "source": []
  }
 ],
 "metadata": {
  "kernelspec": {
   "display_name": "Python 3",
   "language": "python",
   "name": "python3"
  },
  "language_info": {
   "codemirror_mode": {
    "name": "ipython",
    "version": 3
   },
   "file_extension": ".py",
   "mimetype": "text/x-python",
   "name": "python",
   "nbconvert_exporter": "python",
   "pygments_lexer": "ipython3",
   "version": "3.10.4 (main, Nov 29 2022, 20:00:25) [GCC 9.4.0]"
  },
  "orig_nbformat": 4,
  "vscode": {
   "interpreter": {
    "hash": "3ad933181bd8a04b432d3370b9dc3b0662ad032c4dfaa4e4f1596c548f763858"
   }
  }
 },
 "nbformat": 4,
 "nbformat_minor": 2
}
