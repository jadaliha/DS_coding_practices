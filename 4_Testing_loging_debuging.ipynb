{
 "cells": [
  {
   "attachments": {},
   "cell_type": "markdown",
   "metadata": {},
   "source": [
    "# Testing rocks, debugging sucks\n",
    "\n",
    "<img src=\"https://s.wsj.net/public/resources/images/BN-QQ164_WILCZE_GR_20161104112754.jpg\" width=\"800\"/>\n"
   ]
  },
  {
   "attachments": {},
   "cell_type": "markdown",
   "metadata": {},
   "source": [
    "# Testing\n",
    "The dynamic nature of Python makes testing critically important to\n",
    "most applications. Widly used NLP in programming makes Test Driven Design the future of programming."
   ]
  },
  {
   "attachments": {},
   "cell_type": "markdown",
   "metadata": {},
   "source": [
    "## Assertions\n",
    "\n",
    "The `assert` statement is an internal check for the program.  If an\n",
    "expression is not true, it raises a `AssertionError` exception.\n",
    "\n",
    "`assert` statement syntax.\n",
    "\n",
    "```python\n",
    "assert <expression> [, 'Diagnostic message']\n",
    "```"
   ]
  },
  {
   "cell_type": "code",
   "execution_count": 1,
   "metadata": {},
   "outputs": [
    {
     "ename": "AssertionError",
     "evalue": "This is an error message 2",
     "output_type": "error",
     "traceback": [
      "\u001b[0;31m---------------------------------------------------------------------------\u001b[0m",
      "\u001b[0;31mAssertionError\u001b[0m                            Traceback (most recent call last)",
      "Cell \u001b[0;32mIn[1], line 1\u001b[0m\n\u001b[0;32m----> 1\u001b[0m \u001b[39massert\u001b[39;00m \u001b[39mFalse\u001b[39;00m, \u001b[39m\"\u001b[39m\u001b[39mThis is an error message 2\u001b[39m\u001b[39m\"\u001b[39m\n",
      "\u001b[0;31mAssertionError\u001b[0m: This is an error message 2"
     ]
    }
   ],
   "source": [
    "assert fib(11), \"This is an error message 2\""
   ]
  },
  {
   "attachments": {},
   "cell_type": "markdown",
   "metadata": {},
   "source": [
    "## Contract Programming and test deriven design\n",
    "Also known as Design By Contract, liberal use of assertions is an\n",
    "approach for designing software. It prescribes that software designers\n",
    "should define precise interface specifications for the components of\n",
    "the software."
   ]
  },
  {
   "cell_type": "code",
   "execution_count": 2,
   "metadata": {},
   "outputs": [
    {
     "ename": "AssertionError",
     "evalue": "two plus two should be four",
     "output_type": "error",
     "traceback": [
      "\u001b[0;31m---------------------------------------------------------------------------\u001b[0m",
      "\u001b[0;31mAssertionError\u001b[0m                            Traceback (most recent call last)",
      "Cell \u001b[0;32mIn[2], line 6\u001b[0m\n\u001b[1;32m      3\u001b[0m     \u001b[39massert\u001b[39;00m \u001b[39misinstance\u001b[39m(y, \u001b[39mint\u001b[39m), \u001b[39m'\u001b[39m\u001b[39mExpected int\u001b[39m\u001b[39m'\u001b[39m\n\u001b[1;32m      4\u001b[0m     \u001b[39mreturn\u001b[39;00m x \u001b[39m-\u001b[39m y\n\u001b[0;32m----> 6\u001b[0m \u001b[39massert\u001b[39;00m add(\u001b[39m2\u001b[39m,\u001b[39m2\u001b[39m) \u001b[39m==\u001b[39m \u001b[39m4\u001b[39m, \u001b[39m'\u001b[39m\u001b[39mtwo plus two should be four\u001b[39m\u001b[39m'\u001b[39m\n\u001b[1;32m      8\u001b[0m \u001b[39mtry\u001b[39;00m:\n\u001b[1;32m      9\u001b[0m     bad_function()\n",
      "\u001b[0;31mAssertionError\u001b[0m: two plus two should be four"
     ]
    }
   ],
   "source": [
    "def add(x, y):\n",
    "    assert isinstance(x, int), 'Expected int'  # Not a good idea to use assert in production code\n",
    "    assert isinstance(y, int), 'Expected int'\n",
    "    return x - y\n",
    "\n",
    "assert add(2,2) == 4, 'two plus two should be four'"
   ]
  },
  {
   "attachments": {},
   "cell_type": "markdown",
   "metadata": {},
   "source": [
    "This way you are including the test in the same module as your code.\n",
    "\n",
    "**Benefit:** If the code is obviously broken, attempts to import the\n",
    " module will crash.*\n",
    "\n",
    "This is **not recommended** for exhaustive testing though."
   ]
  },
  {
   "attachments": {},
   "cell_type": "markdown",
   "metadata": {},
   "source": [
    "## Error handling is not same as testing!\n",
    "\n",
    "<img src=\"https://files.realpython.com/media/Pythons-assert-Statement_Watermarked.b22344aad0fa.jpg\" width=\"800\"/>\n"
   ]
  },
  {
   "attachments": {},
   "cell_type": "markdown",
   "metadata": {},
   "source": [
    "For error handeling user `raise Exception('message')`.\n",
    "\n",
    "One big difference is `assert` statments will not shipped with the productiopn ready code, but `raise` will."
   ]
  },
  {
   "attachments": {},
   "cell_type": "markdown",
   "metadata": {},
   "source": [
    "```python\n",
    "if date_provided.date() < current_date.date():\n",
    "    raise Exception(\"Date provided can't be in the past\")\n",
    "```"
   ]
  },
  {
   "cell_type": "code",
   "execution_count": 9,
   "metadata": {},
   "outputs": [
    {
     "ename": "ValueError",
     "evalue": "This function always fails",
     "output_type": "error",
     "traceback": [
      "\u001b[0;31m---------------------------------------------------------------------------\u001b[0m",
      "\u001b[0;31mValueError\u001b[0m                                Traceback (most recent call last)",
      "Cell \u001b[0;32mIn[9], line 10\u001b[0m\n\u001b[1;32m      8\u001b[0m     raiseEx \u001b[39m=\u001b[39m \u001b[39mTrue\u001b[39;00m\n\u001b[1;32m      9\u001b[0m \u001b[39mfinally\u001b[39;00m:\n\u001b[0;32m---> 10\u001b[0m     \u001b[39massert\u001b[39;00m bad_function(), \u001b[39m'\u001b[39m\u001b[39mValueError was not raised\u001b[39m\u001b[39m'\u001b[39m\n",
      "Cell \u001b[0;32mIn[9], line 2\u001b[0m, in \u001b[0;36mbad_function\u001b[0;34m()\u001b[0m\n\u001b[1;32m      1\u001b[0m \u001b[39mdef\u001b[39;00m \u001b[39mbad_function\u001b[39m():\n\u001b[0;32m----> 2\u001b[0m     \u001b[39mraise\u001b[39;00m \u001b[39mValueError\u001b[39;00m(\u001b[39m'\u001b[39m\u001b[39mThis function always fails\u001b[39m\u001b[39m'\u001b[39m)\n",
      "\u001b[0;31mValueError\u001b[0m: This function always fails"
     ]
    }
   ],
   "source": [
    "def bad_function():\n",
    "    raise ValueError('This function always fails')\n",
    "\n",
    "try:\n",
    "    bad_function()\n",
    "    raiseEx = False\n",
    "except ValueError as e:\n",
    "    raiseEx = True\n",
    "finally:\n",
    "    assert raiseEx, 'ValueError was not raised'\n"
   ]
  },
  {
   "attachments": {},
   "cell_type": "markdown",
   "metadata": {},
   "source": [
    "\n",
    "## `unittest` Module\n",
    "\n",
    "Suppose you have some code.\n",
    "\n",
    "```python\n",
    "# simple.py\n",
    "def add(x:int, y:int) -> int:\n",
    "    return x + y\n",
    "```\n",
    "\n",
    "Now, suppose you want to test it.  Create a separate testing file like this.\n",
    "\n",
    "**Important:** Each method must start with `test`.\n",
    "\n",
    "```python\n",
    "# test_simple.py\n",
    "\n",
    "import simple\n",
    "import unittest\n",
    "\n",
    "# Notice that it inherits from unittest.TestCase\n",
    "class TestAdd(unittest.TestCase):\n",
    "    def test_simple(self):\n",
    "        # Test with simple integer arguments\n",
    "        r = simple.add(2, 2)\n",
    "        self.assertEqual(r, 4)\n",
    "\n",
    "if __name__ == '__main__':\n",
    "    unittest.main()\n",
    "```\n",
    "\n",
    "Then run Python on the test file.\n",
    "\n",
    "```bash\n",
    "python test_simple.py\n",
    "```\n",
    "\n"
   ]
  },
  {
   "attachments": {},
   "cell_type": "markdown",
   "metadata": {},
   "source": [
    "There are several built in assertions that come with `unittest`. Each of them asserts a different thing.\n",
    "\n",
    "```python\n",
    "self.assertTrue(expr)       # Assert that expr is True\n",
    "self.assertEqual(x,y)       # Assert that x == y\n",
    "self.assertNotEqual(x,y)    # Assert that x != y\n",
    "self.assertAlmostEqual(x,y,places)                # Assert that x is near y\n",
    "self.assertRaises(exc, callable, arg1, arg2, ...) # Assert that callable(arg1,arg2,...) raises exc\n",
    "```\n",
    "\n",
    "This is not an exhaustive list. There are other assertions in the\n",
    "module.\n",
    "\n",
    "To run the tests, turn the code into a script. Then run Python on the test file.\n",
    "\n",
    "```bash\n",
    "bash % python3 test_simple.py\n",
    "F.\n",
    "========================================================\n",
    "FAIL: test_simple (__main__.TestAdd)\n",
    "--------------------------------------------------------\n",
    "Traceback (most recent call last):\n",
    "  File \"testsimple.py\", line 8, in test_simple\n",
    "    self.assertEqual(r, 5)\n",
    "AssertionError: 4 != 5\n",
    "--------------------------------------------------------\n",
    "Ran 2 tests in 0.000s\n",
    "FAILED (failures=1)\n",
    "```"
   ]
  },
  {
   "attachments": {},
   "cell_type": "markdown",
   "metadata": {},
   "source": [
    "Effective unit testing could be quite complicated for large applications. The built-in `unittest` module has the advantage of being available everywhere. However, many programmers also find it to be quite verbose. A popular alternative is [pytest](https://docs.pytest.org/en/latest/)."
   ]
  },
  {
   "attachments": {},
   "cell_type": "markdown",
   "metadata": {},
   "source": [
    "## Coverage\n",
    "\n",
    "It monitors your program, noting which parts of the code have been executed, then analyzes the source to identify code that could have been executed but was not.\n",
    "\n",
    "Coverage measurement is typically used to gauge the effectiveness of tests. It can show which parts of your code are being exercised by tests, and which are not.\n",
    "\n",
    "https://coverage.readthedocs.io/"
   ]
  },
  {
   "attachments": {},
   "cell_type": "markdown",
   "metadata": {},
   "source": [
    "# Logging\n",
    "This section briefly introduces the logging module. The `logging` module is a standard library module for recording\n",
    "diagnostic information. \n",
    "\n",
    "<img src = \"https://files.realpython.com/media/Python-Logging-A-Stroll-Through-The-Source-Code_Watermarked.efa1d31c4fe4.jpg\"  width=\"800\"/>"
   ]
  },
  {
   "attachments": {},
   "cell_type": "markdown",
   "metadata": {},
   "source": [
    "```python\n",
    "import logging\n",
    "log = logging.getLogger(__name__)\n",
    "```\n"
   ]
  },
  {
   "attachments": {},
   "cell_type": "markdown",
   "metadata": {},
   "source": [
    "add these two lines on top of your file. and use something like this to log a message\n",
    "\n",
    "```python\n",
    "log.warning(\"Couldn't parse : %s\", line)\n",
    "```\n"
   ]
  },
  {
   "attachments": {},
   "cell_type": "markdown",
   "metadata": {},
   "source": [
    "Issuing log messages. *Each method represents a different level of severity.*\n",
    "\n",
    "```python\n",
    "log.critical(message [, args])\n",
    "log.error(message [, args])\n",
    "log.warning(message [, args])\n",
    "log.info(message [, args])\n",
    "log.debug(message [, args])\n",
    "```"
   ]
  },
  {
   "attachments": {},
   "cell_type": "markdown",
   "metadata": {},
   "source": [
    "The logging behavior is configured separately. you can add this to your `__init__.py` file, or keep it in your main script file.\n",
    "\n",
    "```python\n",
    "formatter = logging.Formatter(\n",
    "    '%(asctime)s | %(name)s |  %(levelname)s: %(message)s')\n",
    "logger.setLevel(logging.DEBUG)\n",
    "\n",
    "stream_handler = logging.StreamHandler()\n",
    "stream_handler.setLevel(logging.INFO)\n",
    "stream_handler.setFormatter(formatter)\n",
    "```"
   ]
  },
  {
   "attachments": {},
   "cell_type": "markdown",
   "metadata": {},
   "source": [
    "# Debugging Tips\n",
    "\n",
    "So, your program has crashed...\n",
    "\n",
    "```bash\n",
    "bash % python3 blah.py\n",
    "Traceback (most recent call last):\n",
    "  File \"blah.py\", line 13, in ?\n",
    "    foo()\n",
    "  File \"blah.py\", line 10, in foo\n",
    "    bar()\n",
    "  File \"blah.py\", line 7, in bar\n",
    "    spam()\n",
    "  File \"blah.py\", 4, in spam\n",
    "    line x.append(3)\n",
    "AttributeError: 'int' object has no attribute 'append'\n",
    "```\n",
    "\n",
    "Now what?!"
   ]
  },
  {
   "cell_type": "markdown",
   "metadata": {},
   "source": [
    "You can manually launch the debugger inside a program."
   ]
  },
  {
   "cell_type": "code",
   "execution_count": 1,
   "metadata": {},
   "outputs": [
    {
     "name": "stdout",
     "output_type": "stream",
     "text": [
      "x\n"
     ]
    },
    {
     "ename": "AssertionError",
     "evalue": "print_x(2) does not print 2!",
     "output_type": "error",
     "traceback": [
      "\u001b[0;31m---------------------------------------------------------------------------\u001b[0m",
      "\u001b[0;31mAssertionError\u001b[0m                            Traceback (most recent call last)",
      "Cell \u001b[0;32mIn[1], line 5\u001b[0m\n\u001b[1;32m      2\u001b[0m     \u001b[39mbreakpoint\u001b[39m()      \u001b[39m# Enter the debugger (Python 3.7+)\u001b[39;00m\n\u001b[1;32m      3\u001b[0m     \u001b[39mreturn\u001b[39;00m \u001b[39mprint\u001b[39m(\u001b[39m'\u001b[39m\u001b[39mx\u001b[39m\u001b[39m'\u001b[39m)\n\u001b[0;32m----> 5\u001b[0m \u001b[39massert\u001b[39;00m print_x(\u001b[39m2\u001b[39m) \u001b[39m==\u001b[39m \u001b[39m2\u001b[39m, \u001b[39m'\u001b[39m\u001b[39mprint_x(2) does not print 2!\u001b[39m\u001b[39m'\u001b[39m\n",
      "\u001b[0;31mAssertionError\u001b[0m: print_x(2) does not print 2!"
     ]
    }
   ],
   "source": [
    "def print_x(x):\n",
    "    breakpoint()      # Enter the debugger (Python 3.7+)\n",
    "    return print('x')\n",
    "\n",
    "assert print_x(2) == 2, 'print_x(2) does not print 2!'"
   ]
  },
  {
   "attachments": {},
   "cell_type": "markdown",
   "metadata": {},
   "source": [
    "# Summary\n",
    "\n",
    "1. [Design by contract](https://en.wikipedia.org/wiki/Design_by_contract) is a programming paradigm that define the interface (inputs and output types) of a component.\n",
    "2. [Test-driven development](https://en.wikipedia.org/wiki/Test-driven_development) is a development process that relies on the test cases, then the code is improved so that the tests pass. \n",
    "3. You have to write the test before you write the code. For any new features, you have to write the test first, then write the code to pass the test.\n",
    "4. `assert` is build-in Python statement for writing test units, which is different from `raise` to handle on the fly errors.\n",
    "5. `pytest` and `unittest` modules, has more variation for `assert`.\n",
    "6. You may use `logging` module to record diagnostic information, while running the program. and define the level of severity and destination of the log seperatly for different part of the code, and change them for **production** and **development** without changing the code again."
   ]
  },
  {
   "attachments": {},
   "cell_type": "markdown",
   "metadata": {},
   "source": [
    "# Refrence\n"
   ]
  },
  {
   "attachments": {},
   "cell_type": "markdown",
   "metadata": {},
   "source": [
    "1. [Practical Python Programming (course by @dabeaz)](https://github.com/dabeaz-course/practical-python)\n",
    "2. [How to set different levels for different python log handlers](https://stackoverflow.com/questions/11111064/how-to-set-different-levels-for-different-python-log-handlers)"
   ]
  },
  {
   "cell_type": "markdown",
   "metadata": {},
   "source": []
  }
 ],
 "metadata": {
  "kernelspec": {
   "display_name": "Python 3",
   "language": "python",
   "name": "python3"
  },
  "language_info": {
   "codemirror_mode": {
    "name": "ipython",
    "version": 3
   },
   "file_extension": ".py",
   "mimetype": "text/x-python",
   "name": "python",
   "nbconvert_exporter": "python",
   "pygments_lexer": "ipython3",
   "version": "3.10.4"
  },
  "orig_nbformat": 4,
  "vscode": {
   "interpreter": {
    "hash": "3ad933181bd8a04b432d3370b9dc3b0662ad032c4dfaa4e4f1596c548f763858"
   }
  }
 },
 "nbformat": 4,
 "nbformat_minor": 2
}
