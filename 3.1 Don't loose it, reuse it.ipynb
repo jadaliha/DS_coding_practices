{
 "cells": [
  {
   "cell_type": "code",
   "execution_count": 1,
   "metadata": {},
   "outputs": [],
   "source": [
    "from funsql import Hook, readTemplates\n",
    "ph = Hook({\n",
    "    \"host\"      : \"psql-mock-database-cloud.postgres.database.azure.com\",\n",
    "    \"port\"      : \"5432\",\n",
    "    \"user\"      : \"nxhbvewxsaijdisfftwjgpuw@psql-mock-database-cloud\",\n",
    "    \"password\"  : \"aexcrtmmacdnrmpsomnnsvov\",\n",
    "    \"database\"  : \"booking1666875447372qmebziyvxnskbwrb\"\n",
    "})\n",
    "query = readTemplates(\"./funsql/data/sql_templates.sql\")"
   ]
  },
  {
   "cell_type": "code",
   "execution_count": 2,
   "metadata": {},
   "outputs": [
    {
     "data": {
      "text/plain": [
       "\u001b[34mSELECT\u001b[0m * \u001b[34mFROM\u001b[0m pg_tables \u001b[34mLIMIT\u001b[0m 10;"
      ]
     },
     "execution_count": 2,
     "metadata": {},
     "output_type": "execute_result"
    }
   ],
   "source": [
    "my_sample = query.sample10('pg_tables')\n",
    "my_sample"
   ]
  },
  {
   "cell_type": "code",
   "execution_count": 3,
   "metadata": {},
   "outputs": [
    {
     "data": {
      "text/html": [
       "<div>\n",
       "<style scoped>\n",
       "    .dataframe tbody tr th:only-of-type {\n",
       "        vertical-align: middle;\n",
       "    }\n",
       "\n",
       "    .dataframe tbody tr th {\n",
       "        vertical-align: top;\n",
       "    }\n",
       "\n",
       "    .dataframe thead th {\n",
       "        text-align: right;\n",
       "    }\n",
       "</style>\n",
       "<table border=\"1\" class=\"dataframe\">\n",
       "  <thead>\n",
       "    <tr style=\"text-align: right;\">\n",
       "      <th></th>\n",
       "      <th>schemaname</th>\n",
       "      <th>tablename</th>\n",
       "      <th>tableowner</th>\n",
       "      <th>tablespace</th>\n",
       "      <th>hasindexes</th>\n",
       "      <th>hasrules</th>\n",
       "      <th>hastriggers</th>\n",
       "      <th>rowsecurity</th>\n",
       "    </tr>\n",
       "  </thead>\n",
       "  <tbody>\n",
       "    <tr>\n",
       "      <th>0</th>\n",
       "      <td>public</td>\n",
       "      <td>company</td>\n",
       "      <td>ddvrvydmclaoowbfkhtdyyph</td>\n",
       "      <td>None</td>\n",
       "      <td>True</td>\n",
       "      <td>False</td>\n",
       "      <td>False</td>\n",
       "      <td>False</td>\n",
       "    </tr>\n",
       "    <tr>\n",
       "      <th>1</th>\n",
       "      <td>public</td>\n",
       "      <td>property_history</td>\n",
       "      <td>ltmtskflkgwwrgxhvwlozebc</td>\n",
       "      <td>None</td>\n",
       "      <td>True</td>\n",
       "      <td>False</td>\n",
       "      <td>False</td>\n",
       "      <td>False</td>\n",
       "    </tr>\n",
       "    <tr>\n",
       "      <th>2</th>\n",
       "      <td>public</td>\n",
       "      <td>config_item</td>\n",
       "      <td>ltmtskflkgwwrgxhvwlozebc</td>\n",
       "      <td>None</td>\n",
       "      <td>True</td>\n",
       "      <td>False</td>\n",
       "      <td>False</td>\n",
       "      <td>False</td>\n",
       "    </tr>\n",
       "    <tr>\n",
       "      <th>3</th>\n",
       "      <td>public</td>\n",
       "      <td>users</td>\n",
       "      <td>mock_database_root</td>\n",
       "      <td>None</td>\n",
       "      <td>False</td>\n",
       "      <td>False</td>\n",
       "      <td>False</td>\n",
       "      <td>False</td>\n",
       "    </tr>\n",
       "    <tr>\n",
       "      <th>4</th>\n",
       "      <td>public</td>\n",
       "      <td>appartments</td>\n",
       "      <td>mock_database_root</td>\n",
       "      <td>None</td>\n",
       "      <td>True</td>\n",
       "      <td>False</td>\n",
       "      <td>False</td>\n",
       "      <td>False</td>\n",
       "    </tr>\n",
       "    <tr>\n",
       "      <th>5</th>\n",
       "      <td>public</td>\n",
       "      <td>bookings</td>\n",
       "      <td>mock_database_root</td>\n",
       "      <td>None</td>\n",
       "      <td>False</td>\n",
       "      <td>False</td>\n",
       "      <td>False</td>\n",
       "      <td>False</td>\n",
       "    </tr>\n",
       "    <tr>\n",
       "      <th>6</th>\n",
       "      <td>pg_catalog</td>\n",
       "      <td>pg_statistic</td>\n",
       "      <td>azure_superuser</td>\n",
       "      <td>None</td>\n",
       "      <td>True</td>\n",
       "      <td>False</td>\n",
       "      <td>False</td>\n",
       "      <td>False</td>\n",
       "    </tr>\n",
       "    <tr>\n",
       "      <th>7</th>\n",
       "      <td>pg_catalog</td>\n",
       "      <td>pg_foreign_table</td>\n",
       "      <td>azure_superuser</td>\n",
       "      <td>None</td>\n",
       "      <td>True</td>\n",
       "      <td>False</td>\n",
       "      <td>False</td>\n",
       "      <td>False</td>\n",
       "    </tr>\n",
       "    <tr>\n",
       "      <th>8</th>\n",
       "      <td>pg_catalog</td>\n",
       "      <td>pg_authid</td>\n",
       "      <td>azure_superuser</td>\n",
       "      <td>pg_global</td>\n",
       "      <td>True</td>\n",
       "      <td>False</td>\n",
       "      <td>False</td>\n",
       "      <td>False</td>\n",
       "    </tr>\n",
       "    <tr>\n",
       "      <th>9</th>\n",
       "      <td>pg_catalog</td>\n",
       "      <td>pg_user_mapping</td>\n",
       "      <td>azure_superuser</td>\n",
       "      <td>None</td>\n",
       "      <td>True</td>\n",
       "      <td>False</td>\n",
       "      <td>False</td>\n",
       "      <td>False</td>\n",
       "    </tr>\n",
       "  </tbody>\n",
       "</table>\n",
       "</div>"
      ],
      "text/plain": [
       "   schemaname         tablename                tableowner tablespace  \\\n",
       "0      public           company  ddvrvydmclaoowbfkhtdyyph       None   \n",
       "1      public  property_history  ltmtskflkgwwrgxhvwlozebc       None   \n",
       "2      public       config_item  ltmtskflkgwwrgxhvwlozebc       None   \n",
       "3      public             users        mock_database_root       None   \n",
       "4      public       appartments        mock_database_root       None   \n",
       "5      public          bookings        mock_database_root       None   \n",
       "6  pg_catalog      pg_statistic           azure_superuser       None   \n",
       "7  pg_catalog  pg_foreign_table           azure_superuser       None   \n",
       "8  pg_catalog         pg_authid           azure_superuser  pg_global   \n",
       "9  pg_catalog   pg_user_mapping           azure_superuser       None   \n",
       "\n",
       "   hasindexes  hasrules  hastriggers  rowsecurity  \n",
       "0        True     False        False        False  \n",
       "1        True     False        False        False  \n",
       "2        True     False        False        False  \n",
       "3       False     False        False        False  \n",
       "4        True     False        False        False  \n",
       "5       False     False        False        False  \n",
       "6        True     False        False        False  \n",
       "7        True     False        False        False  \n",
       "8        True     False        False        False  \n",
       "9        True     False        False        False  "
      ]
     },
     "execution_count": 3,
     "metadata": {},
     "output_type": "execute_result"
    }
   ],
   "source": [
    "my_sample()"
   ]
  },
  {
   "cell_type": "code",
   "execution_count": 7,
   "metadata": {},
   "outputs": [
    {
     "data": {
      "text/plain": [
       "\u001b[34mSELECT\u001b[0m * \u001b[34mFROM\u001b[0m mytable \u001b[34mLIMIT\u001b[0m 10;\n",
       "\n",
       "\u001b[34mSELECT\u001b[0m *\n",
       "  \u001b[34mFROM\u001b[0m information_schema.\u001b[34mCOLUMNS\u001b[0m\n",
       " \u001b[34mWHERE\u001b[0m table_schema = 'healthcare'\n",
       "   \u001b[34mAND\u001b[0m \u001b[34mTABLE_NAME\u001b[0m   = 'transactions'\n",
       "     ;\n",
       "\u001b[34mSELECT\u001b[0m * \u001b[34mFROM\u001b[0m transactions \u001b[34mLIMIT\u001b[0m 10;\n",
       "\n",
       "\u001b[34mSELECT\u001b[0m * \u001b[34mFROM\u001b[0m mytable \u001b[34mLIMIT\u001b[0m 10;"
      ]
     },
     "execution_count": 7,
     "metadata": {},
     "output_type": "execute_result"
    }
   ],
   "source": [
    "query.sample10('mytable') + query.columns('healthcare','transactions') + query.sample10('transactions') + query.sample10('mytable')"
   ]
  },
  {
   "cell_type": "code",
   "execution_count": 6,
   "metadata": {},
   "outputs": [
    {
     "data": {
      "text/plain": [
       "\u001b[34mSELECT\u001b[0m * \u001b[34mFROM\u001b[0m \u001b[34mPUBLIC\u001b[0m.users \u001b[34mLIMIT\u001b[0m 10;"
      ]
     },
     "execution_count": 6,
     "metadata": {},
     "output_type": "execute_result"
    }
   ],
   "source": [
    "query.sample10('public.users')"
   ]
  },
  {
   "cell_type": "code",
   "execution_count": null,
   "metadata": {},
   "outputs": [],
   "source": []
  }
 ],
 "metadata": {
  "kernelspec": {
   "display_name": "Python 3",
   "language": "python",
   "name": "python3"
  },
  "language_info": {
   "codemirror_mode": {
    "name": "ipython",
    "version": 3
   },
   "file_extension": ".py",
   "mimetype": "text/x-python",
   "name": "python",
   "nbconvert_exporter": "python",
   "pygments_lexer": "ipython3",
   "version": "3.10.4 (main, Oct  3 2022, 19:55:58) [GCC 9.4.0]"
  },
  "orig_nbformat": 4,
  "vscode": {
   "interpreter": {
    "hash": "3ad933181bd8a04b432d3370b9dc3b0662ad032c4dfaa4e4f1596c548f763858"
   }
  }
 },
 "nbformat": 4,
 "nbformat_minor": 2
}
