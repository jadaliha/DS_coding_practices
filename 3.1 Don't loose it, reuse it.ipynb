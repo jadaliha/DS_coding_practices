{
 "cells": [
  {
   "cell_type": "code",
   "execution_count": null,
   "metadata": {},
   "outputs": [],
   "source": [
    "import logging\n",
    "logging.basicConfig(\n",
    "    filename  = 'app.log',      # Log output file\n",
    "    level     = logging.DEBUG,  # Output level\n",
    ")"
   ]
  },
  {
   "cell_type": "code",
   "execution_count": null,
   "metadata": {},
   "outputs": [],
   "source": [
    "from funsql import Hook, readTemplates\n",
    "ph = Hook({\n",
    "    \"host\"      : \"psql-mock-database-cloud.postgres.database.azure.com\",\n",
    "    \"port\"      : \"5432\",\n",
    "    \"user\"      : \"nxhbvewxsaijdisfftwjgpuw@psql-mock-database-cloud\",\n",
    "    \"password\"  : \"aexcrtmmacdnrmpsomnnsvov\",\n",
    "    \"database\"  : \"booking1666875447372qmebziyvxnskbwrb\"\n",
    "})\n",
    "query = readTemplates(\"./funsql/data/sql_templates.sql\")"
   ]
  },
  {
   "cell_type": "code",
   "execution_count": null,
   "metadata": {},
   "outputs": [],
   "source": [
    "my_sample = query.sample10('pg_tables')\n",
    "my_sample"
   ]
  },
  {
   "cell_type": "code",
   "execution_count": null,
   "metadata": {},
   "outputs": [],
   "source": [
    "my_sample()"
   ]
  },
  {
   "cell_type": "code",
   "execution_count": null,
   "metadata": {},
   "outputs": [],
   "source": [
    "query.sample10('mytable') + query.columns('healthcare','transactions') + query.sample10('transactions') + query.sample10('mytable')"
   ]
  },
  {
   "cell_type": "code",
   "execution_count": null,
   "metadata": {},
   "outputs": [],
   "source": [
    "query.sample10('public.users')()"
   ]
  },
  {
   "cell_type": "code",
   "execution_count": null,
   "metadata": {},
   "outputs": [],
   "source": [
    "dir(logging)"
   ]
  },
  {
   "cell_type": "code",
   "execution_count": null,
   "metadata": {},
   "outputs": [],
   "source": []
  }
 ],
 "metadata": {
  "kernelspec": {
   "display_name": "Python 3",
   "language": "python",
   "name": "python3"
  },
  "language_info": {
   "codemirror_mode": {
    "name": "ipython",
    "version": 3
   },
   "file_extension": ".py",
   "mimetype": "text/x-python",
   "name": "python",
   "nbconvert_exporter": "python",
   "pygments_lexer": "ipython3",
   "version": "3.10.4"
  },
  "vscode": {
   "interpreter": {
    "hash": "3ad933181bd8a04b432d3370b9dc3b0662ad032c4dfaa4e4f1596c548f763858"
   }
  }
 },
 "nbformat": 4,
 "nbformat_minor": 2
}
